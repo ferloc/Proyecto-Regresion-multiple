{
 "cells": [
  {
   "cell_type": "markdown",
   "id": "58796f5a-a673-419d-a8dd-41a8c9d497d1",
   "metadata": {},
   "source": [
    "# ( A1.3 Regresión lineal multiple)         \n",
    "                                                                                                       \n",
    "                                                                            Fernando Ariel Lozano Castillo\n",
    "1. Primero importaremos los datos del archivo **NASA.csv**  en la variable `df` y  revisaremos las dimensiones\n",
    "del data frame e imprimiremos en consola tanto dichas dimensiones  con la función `shape`como las primeras 15 filas\n",
    "de datos con la función `head`.\n"
   ]
  },
  {
   "cell_type": "code",
   "execution_count": 166,
   "id": "764089e1-af4f-44b9-a278-d2080ac02570",
   "metadata": {},
   "outputs": [
    {
     "name": "stdout",
     "output_type": "stream",
     "text": [
      "Dimensiones : (1503, 6) \n",
      "\n",
      "    frecuencia  angulo  longitud  velocidad   espesor  presion\n",
      "0          800     0.0    0.3048       71.3  0.002663  126.201\n",
      "1         1000     0.0    0.3048       71.3  0.002663  125.201\n",
      "2         1250     0.0    0.3048       71.3  0.002663  125.951\n",
      "3         1600     0.0    0.3048       71.3  0.002663  127.591\n",
      "4         2000     0.0    0.3048       71.3  0.002663  127.461\n",
      "5         2500     0.0    0.3048       71.3  0.002663  125.571\n",
      "6         3150     0.0    0.3048       71.3  0.002663  125.201\n",
      "7         4000     0.0    0.3048       71.3  0.002663  123.061\n",
      "8         5000     0.0    0.3048       71.3  0.002663  121.301\n",
      "9         6300     0.0    0.3048       71.3  0.002663  119.541\n",
      "10        8000     0.0    0.3048       71.3  0.002663  117.151\n",
      "11       10000     0.0    0.3048       71.3  0.002663  115.391\n",
      "12       12500     0.0    0.3048       71.3  0.002663  112.241\n",
      "13       16000     0.0    0.3048       71.3  0.002663  108.721\n",
      "14         500     0.0    0.3048       55.5  0.002831  126.416\n"
     ]
    }
   ],
   "source": [
    "import pandas as pd\n",
    "import statsmodels.api as sm\n",
    "import numpy as np\n",
    "import matplotlib.pyplot as plt\n",
    "\n",
    "#Leemos el archivo\n",
    "df = pd.read_csv(\"NASA.csv\")\n",
    "print(\"Dimensiones :\", df.shape , \"\\n\")\n",
    "#Imprimimos las primeras 15 filas\n",
    "print(df.head(15))"
   ]
  },
  {
   "cell_type": "markdown",
   "id": "a4dec876-045d-4c11-86de-b938fa469bf1",
   "metadata": {},
   "source": [
    "2. Ahora separaremos el data frame en **datos de entrenamiento** dentro de la variable `train` y **datos de prueba** en la variable `test` con una proporción de *70/30*. Es decir que ***70% para entrenar*** el modelo y el ***resto para validar los resultados*** con una partición aleatoria con el operador `sample` de pandas y el operador `drop` e `index`  para generar a `test` sin los elementos usados para el subset de entrenamiento."
   ]
  },
  {
   "cell_type": "code",
   "execution_count": 26,
   "id": "4edbd647-cf37-4416-a7cf-ab873d417153",
   "metadata": {},
   "outputs": [
    {
     "name": "stdout",
     "output_type": "stream",
     "text": [
      "Dimensiones de Train:  (1052, 6)\n",
      "Dimensiones de Test:  (451, 6)\n"
     ]
    }
   ],
   "source": [
    "# Geberamos los datos de entrenamiento\n",
    "train = df.sample(frac = 0.7)\n",
    "#Ahora los de validación\n",
    "test = df.drop(train.index)\n",
    "\n",
    "#Imprime las dimensiones de los datos de entrenamienot\n",
    "print(\"Dimensiones de Train: \",train.shape)\n",
    "#Imprime las dimensiones de los datos de prueba\n",
    "print(\"Dimensiones de Test: \", test.shape)"
   ]
  },
  {
   "cell_type": "markdown",
   "id": "e28b25a5-3188-44c6-b378-d0ce21e388dd",
   "metadata": {},
   "source": [
    "Posteriormente, imprimiremos la cantidad de observaciones de cada conjunto de datos y comprobamos  si la suma de elementos en train y test es igual a la del dataset original."
   ]
  },
  {
   "cell_type": "code",
   "execution_count": 62,
   "id": "a36c4c9e-b6ee-4832-8ba1-6d2e1c556de7",
   "metadata": {},
   "outputs": [
    {
     "name": "stdout",
     "output_type": "stream",
     "text": [
      " La división de los datos es correcta.\n"
     ]
    }
   ],
   "source": [
    "\n",
    "if (train.shape[0] + test.shape[0] == df.shape[0]):\n",
    " print(\" La división de los datos es correcta.\")\n",
    "else:\n",
    " print(\" Hay una discrepancia en la división de los datos.\",\"/n\")"
   ]
  },
  {
   "cell_type": "markdown",
   "id": "c6fb4751-f06a-42f5-a371-a172e504ab89",
   "metadata": {},
   "source": [
    "3. Es momento de ***realizar la regresión lineal múltiple***.<br>\n",
    "En esta ocasión nos apoyaremos de la misma función  `OLS` de la librería statsmodels.api.\n",
    "\n",
    "- **Primero definiremos $X$ y $Y$** a partir de los datos de entrenamiento.<br>\n",
    "Para **X**  eliminaremos la columna `presión` del dataset *train* usando el operador  `drop` y el parámetro `axis = 1` que eliminará la columna elegida.<br>\n",
    "Para **Y** será solo la columna `presión`.<br>\n",
    "\n"
   ]
  },
  {
   "cell_type": "code",
   "execution_count": 89,
   "id": "be52bba6-254c-4200-a926-be3a6480ecd8",
   "metadata": {},
   "outputs": [],
   "source": [
    "X = train.drop('presion', axis = 1)\n",
    "Y = train.presion"
   ]
  },
  {
   "cell_type": "markdown",
   "id": "0e761b0c-590d-470d-8748-46b39f8e8b4e",
   "metadata": {},
   "source": [
    "- **Después** definiremos el modelo `model` con la función `OLS`, utilizando como parámetros `Y` y `sm.add_constant(X)` para asegurarnos que el modelo incluya $\\beta_0$.<b>\n"
   ]
  },
  {
   "cell_type": "code",
   "execution_count": 91,
   "id": "cf86045e-3682-4a16-8323-ad0bd8240e41",
   "metadata": {},
   "outputs": [],
   "source": [
    "model = sm.OLS(Y,sm.add_constant(X))"
   ]
  },
  {
   "cell_type": "markdown",
   "id": "f0edb821-4b46-48c4-9106-e9ac94c77ac4",
   "metadata": {},
   "source": [
    "- **Finalmente**, estimaremos el valor de cada coeficiente con el método `fit`, almacenando los resultados en `results`. Para revisar los resultados obtenidos, imprimiremos en pantalla un resumen utilizando el método `summary()`.<br><br>"
   ]
  },
  {
   "cell_type": "code",
   "execution_count": 93,
   "id": "a336148c-a82b-4ff9-aade-a7cd02c07dac",
   "metadata": {},
   "outputs": [
    {
     "name": "stdout",
     "output_type": "stream",
     "text": [
      "                            OLS Regression Results                            \n",
      "==============================================================================\n",
      "Dep. Variable:                presion   R-squared:                       0.500\n",
      "Model:                            OLS   Adj. R-squared:                  0.498\n",
      "Method:                 Least Squares   F-statistic:                     209.6\n",
      "Date:                Thu, 30 Jan 2025   Prob (F-statistic):          7.31e-155\n",
      "Time:                        01:02:23   Log-Likelihood:                -3154.3\n",
      "No. Observations:                1052   AIC:                             6321.\n",
      "Df Residuals:                    1046   BIC:                             6350.\n",
      "Df Model:                           5                                         \n",
      "Covariance Type:            nonrobust                                         \n",
      "==============================================================================\n",
      "                 coef    std err          t      P>|t|      [0.025      0.975]\n",
      "------------------------------------------------------------------------------\n",
      "const        133.2140      0.661    201.597      0.000     131.917     134.511\n",
      "frecuencia    -0.0012   5.07e-05    -24.546      0.000      -0.001      -0.001\n",
      "angulo        -0.4353      0.046     -9.535      0.000      -0.525      -0.346\n",
      "longitud     -34.9949      1.968    -17.781      0.000     -38.857     -31.133\n",
      "velocidad      0.0912      0.010      9.294      0.000       0.072       0.111\n",
      "espesor     -143.6507     17.707     -8.112      0.000    -178.397    -108.905\n",
      "==============================================================================\n",
      "Omnibus:                        9.544   Durbin-Watson:                   1.999\n",
      "Prob(Omnibus):                  0.008   Jarque-Bera (JB):               13.814\n",
      "Skew:                          -0.025   Prob(JB):                      0.00100\n",
      "Kurtosis:                       3.559   Cond. No.                     5.07e+05\n",
      "==============================================================================\n",
      "\n",
      "Notes:\n",
      "[1] Standard Errors assume that the covariance matrix of the errors is correctly specified.\n",
      "[2] The condition number is large, 5.07e+05. This might indicate that there are\n",
      "strong multicollinearity or other numerical problems.\n"
     ]
    }
   ],
   "source": [
    "results = model.fit()\n",
    "print(results.summary())"
   ]
  },
  {
   "cell_type": "markdown",
   "id": "3cbf666f-17da-4c89-afde-5293f453b0a4",
   "metadata": {},
   "source": [
    "Debido a que tenemos interés en conocer los *p-value* de cada variable, imprimimos manualmente los valores exactos de dichas métricas con el atributo `pvalues`."
   ]
  },
  {
   "cell_type": "code",
   "execution_count": 95,
   "id": "d40c596b-eb95-4572-8f06-791bfac1cbe9",
   "metadata": {},
   "outputs": [
    {
     "name": "stdout",
     "output_type": "stream",
     "text": [
      "\n",
      "P-values exactos:\n",
      "const          0.000000e+00\n",
      "frecuencia    1.931591e-105\n",
      "angulo         1.010647e-20\n",
      "longitud       5.267306e-62\n",
      "velocidad      8.384205e-20\n",
      "espesor        1.381217e-15\n",
      "dtype: float64\n"
     ]
    }
   ],
   "source": [
    "# Imprimir manualmente los p-values exactos\n",
    "print(\"\\nP-values exactos:\")\n",
    "print(results.pvalues)"
   ]
  },
  {
   "cell_type": "markdown",
   "id": "6308a90c-ef6d-46a0-b0b6-e8f31f70da61",
   "metadata": {},
   "source": [
    "4. A partir de estos datos vemos lo siguiente:\n"
   ]
  },
  {
   "cell_type": "code",
   "execution_count": 110,
   "id": "eb40575b-a8f8-4b2b-899c-dbdd83178cbb",
   "metadata": {},
   "outputs": [
    {
     "name": "stdout",
     "output_type": "stream",
     "text": [
      "Conclusión sobre la significancia de las variables:\n",
      "Todas las variables tienen p-values muy pequeños,\n",
      "lo que indica que todas son significativamente asociadas con la salida.\n",
      "\n",
      "Conclusión sobre la importancia de las variables:\n",
      "La variable más importante es 'espesor', ya que tiene el coeficiente más grande en valor absoluto (-143)\n",
      "lo que indica que tiene el mayor impacto en la salida y la que le sigue sería longitud con (34.99).\n"
     ]
    }
   ],
   "source": [
    "# Imprimir las conclusiones\n",
    "print(\"Conclusión sobre la significancia de las variables:\")\n",
    "print(\"Todas las variables tienen p-values muy pequeños,\", )\n",
    "print(\"lo que indica que todas son significativamente asociadas con la salida.\")\n",
    "\n",
    "\n",
    "print(\"\\nConclusión sobre la importancia de las variables:\")\n",
    "print(\"La variable más importante es 'espesor', ya que tiene el coeficiente más grande en valor absoluto (-143)\")\n",
    "print(\"lo que indica que tiene el mayor impacto en la salida y la que le sigue sería longitud con (34.99).\")\n"
   ]
  },
  {
   "cell_type": "markdown",
   "id": "0d13dd11-38f7-45cc-a0cd-48ede0ce0e0b",
   "metadata": {},
   "source": [
    "5. Ahora revisaremos el ajusto del modelo, calculamos el *residual standar error* y la *𝑅^2* para los datos de entrenamiento como para los datos de validación.\n",
    "\n",
    "- Para los datos del entrenamiento<br>\n",
    "**RSE** se hace de forma sencilla con la raíz cuadrada del atributo `scale` de los resultados.\n",
    "**R²** usaremos la función `rsquared`."
   ]
  },
  {
   "cell_type": "code",
   "execution_count": 121,
   "id": "0fb72496-1d1b-4805-9dc0-447e2e966fb3",
   "metadata": {},
   "outputs": [
    {
     "name": "stdout",
     "output_type": "stream",
     "text": [
      "Residual Standard Error (RSE) para entrenamiento:  4.866200455225037\n",
      "R² para entrenamiento:  0.5004478925664373\n"
     ]
    }
   ],
   "source": [
    "# Cálculo de RSE y R² para el conjunto de entrenamiento\n",
    "rse_train = np.sqrt(results.scale)\n",
    "r2_train = results.rsquared\n",
    "\n",
    "# Imprimir RSE y R² para entrenamiento\n",
    "print(\"Residual Standard Error (RSE) para entrenamiento: \", rse_train)\n",
    "print(\"R² para entrenamiento: \", r2_train)"
   ]
  },
  {
   "cell_type": "markdown",
   "id": "ecee3c6d-a557-4049-a72c-529a45a184b2",
   "metadata": {},
   "source": [
    "- Para los datos de validación seguiremos una serie de pasos:\n"
   ]
  },
  {
   "cell_type": "markdown",
   "id": "cc8fecff-dfc3-4c4f-98b8-ff082bda8a80",
   "metadata": {},
   "source": [
    "1. Generar `XTest` de forma similar a como se generó `X`, pero usando solo los datos de `test`.\n",
    "2. Estimar el valor de $Y$ para los datos de validación.\n",
    "3. Generar `YTest` de forma similar a como se generó `Y`.\n",
    "4. Calcular RSSTest.\n",
    "5. Calcular TSSTest, estimando el promedio de `YTest` con la función `mean` de numpy.\n",
    "6. Obtener el valor de `nTest`, la cantidad de observaciones de los datos de validación (debe tener un valor distinto a `n`, pues hay más sujetos en el set de entrenamiento que en el de validación).\n",
    "7. Obtener el valor de `mTest`, la cantidad de variables en los datos de validación (debe tener el mismo valor que `m`, pues usamos las mismas variables para entrenar y validar).\n",
    "8. Calcular RSETest (*residual standard error* en validación).\n",
    "9. Calcular R2Test (R cuadrada en validación).\n",
    "   "
   ]
  },
  {
   "cell_type": "code",
   "execution_count": 142,
   "id": "34314efe-bc31-4ddf-90e9-ad0a89a80373",
   "metadata": {},
   "outputs": [
    {
     "name": "stdout",
     "output_type": "stream",
     "text": [
      "RSE = 4.722897343854501\n",
      "R^2 = 0.5443505564269675\n"
     ]
    }
   ],
   "source": [
    "# Genera el elemento XTest\n",
    "XTest = test.drop('presion', axis = 1)\n",
    "\n",
    "# Estima los valores de Y para los datos de validación\n",
    "yhatTest = results.predict(sm.add_constant(XTest))\n",
    "\n",
    "# Genera el elemento YTest\n",
    "YTest = test.presion\n",
    "\n",
    "# Calcula el RSS de validación\n",
    "RSSTest = sum((YTest-yhatTest)**2)\n",
    "\n",
    "# Calcula el TSS de validación\n",
    "TSSTest = sum((YTest-np.mean(YTest))**2)\n",
    "\n",
    "# Define el valor de n para los datos de prueba\n",
    "nTest = XTest.shape[0]\n",
    "\n",
    "# Define el valor de m para los datos de prueba\n",
    "mTest = XTest.shape[1]\n",
    "\n",
    "# Calcula el RSE de validación\n",
    "RSETest = np.sqrt(RSSTest/(nTest-mTest-1))\n",
    "\n",
    "# Calcula el R^2 de validación\n",
    "R2Test = 1 - RSSTest / TSSTest\n",
    "\n",
    "# Imprime el RSE\n",
    "print(\"RSE =\", RSETest)\n",
    "\n",
    "# Imprime el R^2\n",
    "print(\"R^2 =\", R2Test)"
   ]
  },
  {
   "cell_type": "code",
   "execution_count": 148,
   "id": "3e219c33-15ab-4b80-aede-cb49edb0a823",
   "metadata": {},
   "outputs": [],
   "source": [
    "%matplotlib inline"
   ]
  },
  {
   "cell_type": "markdown",
   "id": "cbaa4b30-8f8e-4dc3-8f72-9feafce4a154",
   "metadata": {},
   "source": [
    "6. Finalmente, tratemos de visualizar los resultados obtenidos. Generando una gráfica de dispersión que cuente con el valor real de Y (la presión sonora) para el conjunto de datos de validación en el eje X, y que cuente con el valor estimado de Y, de acuerdo al modelo, para el mismo conjunto de datos en el eje y."
   ]
  },
  {
   "cell_type": "code",
   "execution_count": 150,
   "id": "745eb433-299a-4bdf-88a0-6bdce9d4e5b5",
   "metadata": {},
   "outputs": [
    {
     "data": {
      "image/png": "[encoded data removed]",
      "text/plain": [
       "<Figure size 800x600 with 1 Axes>"
      ]
     },
     "metadata": {},
     "output_type": "display_data"
    }
   ],
   "source": [
    "# Crear la gráfica de dispersión\n",
    "plt.figure(figsize=(8, 6))\n",
    "plt.scatter(YTest, yhatTest, color='blue', label='Datos reales vs. Predicción')\n",
    "\n",
    "# Añadir la línea de referencia (45 grados)\n",
    "plt.plot([YTest.min(), YTest.max()], [YTest.min(), YTest.max()], color='red', linestyle='--', label='Línea perfecta')\n",
    "\n",
    "# Añadir títulos y etiquetas\n",
    "plt.title('Comparación entre valores reales y predichos de presión sonora (Test)')\n",
    "plt.xlabel('Valor real de presión sonora')\n",
    "plt.ylabel('Valor estimado de presión sonora')\n",
    "plt.legend()\n",
    "\n",
    "# Mostrar la gráfica\n",
    "plt.show()\n"
   ]
  },
  {
   "cell_type": "markdown",
   "id": "681ccbeb-66ee-494f-892b-ad536eff76ce",
   "metadata": {},
   "source": [
    "#### ( Conclusion)     \n",
    "\n",
    "Idealmente, si el modelo fuera perfecto, veríamos solo la línea roja, que representaría que los valores reales y el valor estimado fueron idénticos. En este caso, no fue así; sin embargo, se nota una tendencia de los datos a agruparse cerca de la linea roja.\n",
    "\n",
    "\n",
    "El modelo presenta un margen de error considerable, ya que los puntos no están muy cerca de la línea roja que representa la igualdad entre los valores reales y estimados. Idealmente, si el modelo fuera perfecto, se tendría una línea recta con una pendiente de  (45 grados), donde los valores reales y estimados serían idénticos. \n",
    "\n",
    "En este caso, la tendencia general es visible, pero los valores predichos no se alinean completamente con los reales. Esto se refleja en un **RSE de 4.72** y un **R² de 0.54**, indicando que el modelo explica solo la mitad de la variabilidad en los datos. Por lo que  ajustar el modelo considerando nuevas variables, aumentando las observaciones o explorando otros enfoques para mejorar su precisión."
   ]
  },
  {
   "cell_type": "markdown",
   "id": "a4de82c6-9ce5-4603-a9ee-566fc15b76dd",
   "metadata": {},
   "source": [
    "**Firma de honor:**  Doy mi palabra que he realizado esta actividad con integridad académica"
   ]
  }
 ],
 "metadata": {
  "kernelspec": {
   "display_name": "Python [conda env:base] *",
   "language": "python",
   "name": "conda-base-py"
  },
  "language_info": {
   "codemirror_mode": {
    "name": "ipython",
    "version": 3
   },
   "file_extension": ".py",
   "mimetype": "text/x-python",
   "name": "python",
   "nbconvert_exporter": "python",
   "pygments_lexer": "ipython3",
   "version": "3.12.7"
  }
 },
 "nbformat": 4,
 "nbformat_minor": 5
}
